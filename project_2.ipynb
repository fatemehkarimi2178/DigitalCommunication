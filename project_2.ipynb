{
 "cells": [
  {
   "cell_type": "markdown",
   "metadata": {},
   "source": [
    "# \n",
    "- **Answer Set** : NO. 02\n",
    "- **Full Name** : Fatemeh Karimi Barikarasfi\n",
    "- **Student Code** : 96413315\n",
    "\n",
    "Hamming Code in AWGN Channel"
   ]
  },
  {
   "cell_type": "code",
   "execution_count": 1,
   "metadata": {},
   "outputs": [
    {
     "name": "stdout",
     "output_type": "stream",
     "text": [
      "\n",
      "erpr =\n",
      "\n",
      "     0     0     0     0     0     0     0     0     0     0     0     0     0     0     0\n",
      "\n",
      "\n",
      "gener =\n",
      "\n",
      "     1     1     1     0     0     0     0\n",
      "     1     0     0     1     1     0     0\n",
      "     0     1     0     1     0     1     0\n",
      "     1     1     0     1     0     0     1\n",
      "\n",
      "\n",
      "codebook =\n",
      "\n",
      "     0     0     0     0     0     0     0\n",
      "     1     1     0     1     0     0     1\n",
      "     0     1     0     1     0     1     0\n",
      "     1     0     0     0     0     1     1\n",
      "     1     0     0     1     1     0     0\n",
      "     0     1     0     0     1     0     1\n",
      "     1     1     0     0     1     1     0\n",
      "     0     0     0     1     1     1     1\n",
      "     1     1     1     0     0     0     0\n",
      "     0     0     1     1     0     0     1\n",
      "     1     0     1     1     0     1     0\n",
      "     0     1     1     0     0     1     1\n",
      "     0     1     1     1     1     0     0\n",
      "     1     0     1     0     1     0     1\n",
      "     0     0     1     0     1     1     0\n",
      "     1     1     1     1     1     1     1\n",
      "\n",
      "\n",
      "ro =\n",
      "\n",
      "    16\n",
      "\n",
      "\n",
      "col =\n",
      "\n",
      "     7\n",
      "\n",
      "\n",
      "sent =\n",
      "\n",
      "    -1    -1    -1    -1    -1    -1    -1\n",
      "\n",
      "\n"
     ]
    }
   ],
   "source": [
    "clear all\n",
    "close all\n",
    "clc\n",
    "iteration=10^5;\n",
    "snrdb=[-4:10];\n",
    "simsnr=10.^(snrdb/10);\n",
    "erpr=zeros(1,length(snrdb))\n",
    "\n",
    "\n",
    "genmattp=[1 1 0 1;1 0 1 1;1 0 0 0;0 1 1 1;0 1 0 0;0 0 1 0;0 0 0 1];\n",
    "gener=genmattp'\n",
    "\n",
    "cw1=mod(([0 0 0 0]*gener),2);\n",
    "cw2=mod([0 0 0 1]*gener,2);\n",
    "cw3=mod([0 0 1 0]*gener,2);\n",
    "cw4=mod([0 0 1 1]*gener,2);\n",
    "cw5=mod([0 1 0 0]*gener,2);\n",
    "cw6=mod([0 1 0 1]*gener,2);\n",
    "cw7=mod([0 1 1 0]*gener,2);\n",
    "cw8=mod([0 1 1 1]*gener,2);\n",
    "cw9=mod([1 0 0 0]*gener,2);\n",
    "cw10=mod([1 0 0 1]*gener,2);\n",
    "cw11=mod([1 0 1 0]*gener,2);\n",
    "cw12=mod([1 0 1 1]*gener,2);\n",
    "cw13=mod([1 1 0 0]*gener,2);\n",
    "cw14=mod([1 1 0 1]*gener,2);\n",
    "cw15=mod([1 1 1 0]*gener,2);\n",
    "cw16=mod([1 1 1 1]*gener,2);\n",
    "codebook=[cw1;cw2;cw3;cw4;cw5;cw6;cw7;cw8;cw9;cw10;cw11;cw12;cw13;cw14;cw15;cw16]\n",
    "[ro col]=size(codebook)\n",
    "weightmat=zeros(1,ro);\n",
    "sent=2.*cw1-1"
   ]
  },
  {
   "cell_type": "code",
   "execution_count": 3,
   "metadata": {},
   "outputs": [
    {
     "name": "stdout",
     "output_type": "stream",
     "text": [
      "\n",
      "erpr =\n",
      "\n",
      "   1.0e-03 *\n",
      "\n",
      "  Columns 1 through 13\n",
      "\n",
      "    0.2300    0.1500    0.0300    0.0100         0         0         0         0         0         0         0         0         0\n",
      "\n",
      "  Columns 14 through 15\n",
      "\n",
      "         0         0\n",
      "\n",
      "\n"
     ]
    },
    {
     "data": {
      "image/png": "[encoded data removed]",
      "text/plain": [
       "<IPython.core.display.Image object>"
      ]
     },
     "metadata": {},
     "output_type": "display_data"
    }
   ],
   "source": [
    "for j=1:length(snrdb)\n",
    " snr=10^(snrdb(j)/10);\n",
    " count=0;\n",
    " for i=1:iteration\n",
    " noise=randn(1,length(sent));\n",
    " detected=zeros(1,length(sent));\n",
    " received=sqrt(.5).*noise+ sqrt(snr).*sent;\n",
    " for kk=1:length(sent)\n",
    " \n",
    " if received(kk) >=0\n",
    " detected(kk)=1;\n",
    " else \n",
    " detected(kk)=0;\n",
    " \n",
    " end\n",
    " end\n",
    " for nn=1:ro\n",
    " %dtection=detected\n",
    " weightmat(nn)=sum(xor(codebook(nn,:),detected));\n",
    " end\n",
    " [value,index]=min(weightmat);\n",
    " if codebook(index,:)~=cw1\n",
    " count=count+1;\n",
    " end\n",
    " \n",
    " end\n",
    " \n",
    " erpr(j)=count/iteration;\n",
    "end\n",
    "erpr\n",
    "semilogy(snrdb,erpr,'-r*') \n",
    "hold on\n",
    "qf=qfunc(sqrt(2.*simsnr));\n",
    "semilogy(snrdb,qf)\n"
   ]
  }
 ],
 "metadata": {
  "kernelspec": {
   "display_name": "Matlab (Connection)",
   "language": "matlab",
   "name": "matlab_connect"
  },
  "language_info": {
   "codemirror_mode": "octave",
   "file_extension": ".m",
   "help_links": [
    {
     "text": "MetaKernel Magics",
     "url": "https://metakernel.readthedocs.io/en/latest/source/README.html"
    }
   ],
   "mimetype": "text/x-octave",
   "name": "matlab",
   "version": "0.17.1"
  },
  "orig_nbformat": 4
 },
 "nbformat": 4,
 "nbformat_minor": 2
}
